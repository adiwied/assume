{
 "cells": [
  {
   "cell_type": "markdown",
   "metadata": {},
   "source": [
    "## Introduction\n",
    "\n",
    "In this tutorial, we will model and simulate a **Steel Plant** by connecting various components like the **Electrolyser**, **DRI Plant**, and **Electric Arc Furnace (EAF)**. We will also demonstrate how to incorporate **DSM Load Shifting** to optimize flexibility in energy consumption."
   ]
  },
  {
   "cell_type": "markdown",
   "metadata": {},
   "source": [
    "# Steel Plant Simulation Tutorial\n",
    "\n",
    "In this tutorial, we will model and simulate a **Steel Plant** by connecting various components like the **Electrolyser**, **DRI Plant**, and **Electric Arc Furnace (EAF)**. We will also demonstrate how to incorporate **DSM Load Shifting** to optimize flexibility in energy consumption.\n",
    "\n",
    "---\n",
    "\n",
    "## Step 1: Cloning and Setting Up the ASSUME Framework\n",
    "\n",
    "To start, you need to clone the ASSUME framework from the official GitHub repository. Instructions can also be found in the [ASSUME documentation](https://assume.readthedocs.io/en/latest/installation.html).\n"
   ]
  },
  {
   "cell_type": "code",
   "execution_count": null,
   "metadata": {
    "vscode": {
     "languageId": "shellscript"
    }
   },
   "outputs": [
    {
     "ename": "",
     "evalue": "",
     "output_type": "error",
     "traceback": [
      "\u001b[1;31mRunning cells with '.venv (Python 3.11.2)' requires the ipykernel package.\n",
      "\u001b[1;31mRun the following command to install 'ipykernel' into the Python environment. \n",
      "\u001b[1;31mCommand: 'c:/Manish_REPO/ASSUME/.venv/Scripts/python.exe -m pip install ipykernel -U --force-reinstall'"
     ]
    }
   ],
   "source": [
    "!pip install assume-framework\n",
    "!git clone https://github.com/assume-framework/assume.git"
   ]
  },
  {
   "cell_type": "markdown",
   "metadata": {},
   "source": [
    "## Setting Up the Simulation Environment\n",
    "\n",
    "In this notebook, we will walk through the process of setting up and simulating a **Steel Plant** using the ASSUME framework. This steel plant will connect components such as an **Electrolyser**, **DRI Plant**, and an **Electric Arc Furnace (EAF)** to optimize electricity usage.\n",
    "\n",
    "### Objective:\n",
    "Our goal is to create a steel plant model that minimizes the cost of electricity usage by simulating the demand and integrating flexibility using load-shifting techniques.\n",
    "\n",
    "---\n",
    "\n",
    "### Step 1: Cloning the ASSUME Framework\n",
    "\n",
    "Before proceeding with the steel plant setup, we first need to **clone** and install the ASSUME framework, which contains the necessary modules for simulation. The installation guide can be found here: [ASSUME Documentation](https://assume.readthedocs.io/en/latest/installation.html).\n",
    "\n",
    "If the ASSUME framework is already installed on your system, you can skip this step."
   ]
  },
  {
   "cell_type": "markdown",
   "metadata": {},
   "source": [
    "> **Note**: If you already have the framework installed, you can skip this step.\n",
    "\n",
    "Once installed, you can proceed with setting up your **Steel Plant Simulation**.\n",
    "\n",
    "---\n",
    "\n",
    "## Step 2: Setting Up the Steel Plant\n",
    "\n",
    "Once the ASSUME framework is installed, we will now set up the **Steel Plant** by defining its components and their properties. The steel plant consists of three primary components:\n",
    "\n",
    "- **Electrolyser**: Used to produce hydrogen for steel production.\n",
    "- **DRI Plant**: Directly reduces iron ore using hydrogen.\n",
    "- **Electric Arc Furnace (EAF)**: Converts the reduced iron into steel.\n",
    "\n",
    "The objective of this step is to define these components, along with their operational constraints (such as power, efficiency, ramp rates), and then create an instance of the **Steel Plant**.\n",
    "\n"
   ]
  },
  {
   "cell_type": "code",
   "execution_count": null,
   "metadata": {
    "vscode": {
     "languageId": "shellscript"
    }
   },
   "outputs": [],
   "source": [
    "from dst_components import create_electrolyser, create_driplant, create_electric_arc_furnance\n",
    "from steel_plant import SteelPlant\n",
    "import pandas as pd\n",
    "\n",
    "# Define time steps for the simulation\n",
    "time_steps = pd.date_range(start='2023-01-01', periods=24, freq='H')\n",
    "\n",
    "# Define components for the steel plant\n",
    "components = {\n",
    "    'electrolyser': {\n",
    "        'rated_power': 50,  # MW\n",
    "        'min_power': 10,    # MW\n",
    "        'ramp_up': 5,       # MW/hr\n",
    "        'ramp_down': 5,     # MW/hr\n",
    "        'min_operating_time': 1,  # hr\n",
    "        'min_down_time': 1,  # hr\n",
    "        'efficiency': 0.7,   # fraction\n",
    "    },\n",
    "    'dri_plant': {\n",
    "        'specific_hydrogen_consumption': 0.01,  # MWh per ton of DRI\n",
    "        'specific_natural_gas_consumption': 0.1, # MWh per ton of DRI\n",
    "        'specific_electricity_consumption': 0.05, # MWh per ton of DRI\n",
    "        'specific_iron_ore_consumption': 1,  # ton per ton of DRI\n",
    "        'rated_power': 100,  # MW\n",
    "        'min_power': 30,     # MW\n",
    "        'fuel_type': 'both', \n",
    "        'ramp_up': 10,       # MW/hr\n",
    "        'ramp_down': 10,     # MW/hr\n",
    "        'min_operating_time': 2,  # hr\n",
    "        'min_down_time': 2,   # hr\n",
    "    },\n",
    "    'eaf': {\n",
    "        'rated_power': 120,  # MW\n",
    "        'min_power': 40,     # MW\n",
    "        'specific_electricity_consumption': 0.12, # MWh per ton of steel\n",
    "        'specific_dri_demand': 1,  # ton per ton of steel\n",
    "        'specific_lime_demand': 0.1, # ton per ton of steel\n",
    "        'ramp_up': 8,        # MW/hr\n",
    "        'ramp_down': 8,      # MW/hr\n",
    "        'min_operating_time': 3,  # hr\n",
    "        'min_down_time': 2,   # hr\n",
    "    }\n",
    "}\n",
    "\n",
    "# Create a Steel Plant instance\n",
    "steel_plant = SteelPlant(\n",
    "    id='steel_plant_001',\n",
    "    unit_operator='SteelCo',\n",
    "    bidding_strategies={'EOM': 'NaiveDASteelplantStrategy'},\n",
    "    components=components,\n",
    "    objective='min_variable_cost',\n",
    "    demand=1000,  # tons of steel to produce\n",
    "    cost_tolerance=15,  # flexibility cost tolerance\n",
    "    index=time_steps\n",
    ")\n"
   ]
  },
  {
   "cell_type": "markdown",
   "metadata": {},
   "source": [
    "## Step 3: Connecting the Components\n",
    "\n",
    "After setting up the steel plant components, we will connect them to create a process flow for steel production. The **Electrolyser** produces hydrogen, which is consumed by the **DRI Plant**. The DRI produced by the DRI Plant is then processed by the **Electric Arc Furnace (EAF)**.\n",
    "\n",
    "In this step, we will call the `initialize_process_sequence()` function, which links these components together.\n"
   ]
  },
  {
   "cell_type": "code",
   "execution_count": null,
   "metadata": {
    "vscode": {
     "languageId": "shellscript"
    }
   },
   "outputs": [],
   "source": [
    "# Initialize the process sequence for the steel plant\n",
    "steel_plant.initialize_process_sequence()"
   ]
  },
  {
   "cell_type": "markdown",
   "metadata": {},
   "source": [
    "## Step 4: Simulating Steel Plant Operation\n",
    "\n",
    "Now that the steel plant is set up and the components are connected, we can simulate its operation. The goal is to minimize variable costs by optimizing electricity consumption.\n",
    "\n",
    "We will call the `determine_optimal_operation_without_flex()` method to calculate the optimal operation without load-shifting."
   ]
  },
  {
   "cell_type": "code",
   "execution_count": null,
   "metadata": {
    "vscode": {
     "languageId": "shellscript"
    }
   },
   "outputs": [],
   "source": [
    "# Simulate steel plant operation to minimize costs\n",
    "steel_plant.determine_optimal_operation_without_flex()\n",
    "\n",
    "# Get the optimal power requirement and total cost\n",
    "optimal_power = steel_plant.opt_power_requirement\n",
    "total_cost = steel_plant.total_cost\n",
    "\n",
    "print(\"Optimal Power Requirement (MW):\")\n",
    "print(optimal_power)\n",
    "\n",
    "print(\"Total Cost of Operation:\")\n",
    "print(total_cost)"
   ]
  },
  {
   "cell_type": "markdown",
   "metadata": {
    "vscode": {
     "languageId": "shellscript"
    }
   },
   "source": [
    "## Step 5: Integrating DSM Load Shifting\n",
    "\n",
    "The next step is to integrate **load-shifting** capabilities using the **DSM Load Shift** module. This allows the steel plant to adjust its power consumption based on market conditions, maximizing flexibility.\n",
    "\n",
    "We will now switch to `flexibility_measure = 'max_load_shift'` and recalculate the optimal operation with flexibility."
   ]
  },
  {
   "cell_type": "code",
   "execution_count": null,
   "metadata": {
    "vscode": {
     "languageId": "shellscript"
    }
   },
   "outputs": [],
   "source": [
    "# Enable DSM load shifting by adjusting the flexibility measure\n",
    "steel_plant.flexibility_measure = 'max_load_shift'\n",
    "\n",
    "# Simulate the steel plant with load-shifting flexibility\n",
    "steel_plant.determine_optimal_operation_with_flex()\n",
    "\n",
    "# Get the adjusted power requirement after load shifting\n",
    "flex_power = steel_plant.flex_power_requirement\n",
    "\n",
    "print(\"Power Requirement After Load Shifting (MW):\")\n",
    "print(flex_power)\n",
    "\n",
    "# Show total operational cost after flexibility is applied\n",
    "print(\"Total Cost After Load Shifting:\")\n",
    "print(steel_plant.total_cost)"
   ]
  },
  {
   "cell_type": "markdown",
   "metadata": {},
   "source": [
    "## Step 6: Visualizing the Results\n",
    "\n",
    "Finally, we can visualize the difference in power consumption before and after load-shifting. This helps us understand the impact of flexibility on electricity usage and cost."
   ]
  },
  {
   "cell_type": "code",
   "execution_count": null,
   "metadata": {
    "vscode": {
     "languageId": "shellscript"
    }
   },
   "outputs": [],
   "source": [
    "import matplotlib.pyplot as plt\n",
    "\n",
    "# Plot power requirement before and after load shifting\n",
    "plt.plot(optimal_power, label=\"Optimal Power (No Flex)\")\n",
    "plt.plot(flex_power, label=\"Power with Load Shift\", linestyle=\"--\")\n",
    "plt.title(\"Steel Plant Power Requirement with and without Flexibility\")\n",
    "plt.xlabel(\"Time\")\n",
    "plt.ylabel(\"Power (MW)\")\n",
    "plt.legend()\n",
    "plt.show()"
   ]
  },
  {
   "cell_type": "markdown",
   "metadata": {},
   "source": [
    "## Conclusion\n",
    "\n",
    "In this notebook, we demonstrated the setup and simulation of a **Steel Plant** using the ASSUME framework. We created components, connected them, and simulated the plant’s operation both with and without load-shifting flexibility.\n",
    "\n",
    "Key takeaways:\n",
    "- The steel plant can minimize electricity costs by optimizing its power consumption.\n",
    "- Integrating DSM Load Shifting allows the plant to respond to market conditions and increase its operational flexibility.\n",
    "\n",
    "This tutorial provides a foundation for simulating and optimizing energy usage in industrial processes."
   ]
  }
 ],
 "metadata": {
  "kernelspec": {
   "display_name": ".venv",
   "language": "python",
   "name": "python3"
  },
  "language_info": {
   "name": "python",
   "version": "3.11.2"
  }
 },
 "nbformat": 4,
 "nbformat_minor": 2
}
